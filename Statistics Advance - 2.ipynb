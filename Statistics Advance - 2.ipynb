{
 "cells": [
  {
   "cell_type": "markdown",
   "id": "74921528-d281-448f-92fb-2ac65a582729",
   "metadata": {},
   "source": [
    "Question1: Define the z-statistic and explain its relationship to the standard normal distribution. How is the \n",
    "z-statistic used in hypothesis testing?"
   ]
  },
  {
   "cell_type": "markdown",
   "id": "0367af55-fc46-4f0d-a5de-1dfd4bf95a7d",
   "metadata": {},
   "source": [
    "**The z-statistic, also known as a z-score, is a numerical measurement that describes a value's relationship to the mean of a group of values.** It measures how many standard deviations a data point is from the mean of a distribution. \r\n",
    "\r\n",
    "**Relationship to the Standard Normal Distribution:**\r\n",
    "\r\n",
    "The z-statistic is directly linked to the standard normal distribution. This distribution is a bell-shaped curve with a mean of 0 and a standard deviation of 1. When we calculate a z-score, we are essentially transforming the original data point into a value on the scale of the standard normal distribution. This allows us to compare different data points, even if they come from different distributions, on a common scale.\r\n",
    "\r\n",
    "**Using the z-statistic in Hypothesis Testing:**\r\n",
    "\r\n",
    "The z-statistic plays a crucial role in hypothesis testing, particularly when dealing with large sample sizes. Here's how it's used:\r\n",
    "\r\n",
    "1. **Calculating the z-statistic:**\r\n",
    "   - We calculate the z-statistic using the formula:\r\n",
    "     ```\r\n",
    "     z = (x - μ) / σ\r\n",
    "     ```\r\n",
    "     where:\r\n",
    "     - `x`: The sample mean\r\n",
    "     - `μ`: The population mean (under the null hypothesis)\r\n",
    "     - `σ`: The population standard deviation\r\n",
    "\r\n",
    "2. **Determining the p-value:**\r\n",
    "   - Once we have the z-statistic, we can use a z-table or statistical software to find the corresponding p-value. The p-value represents the probability of obtaining a z-statistic as extreme or more extreme than the observed one, assuming the null hypothesis is true.\r\n",
    "\r\n",
    "3. **Making a decision:**\r\n",
    "   - We compare the p-value to the significance level (α). If the p-value is less than α, we reject the null hypothesis. This means that the observed result is statistically significant and unlikely to have occurred by chance.\r\n",
    "\r\n",
    "**In summary, the z-statistic is a powerful tool for standardizing data and making inferences about populations. By transforming data points into z-scores, we can compare them to the standard normal distribution and make informed decisions about hypothesis tests.**\r\n"
   ]
  },
  {
   "cell_type": "markdown",
   "id": "a9ca57b0-0d41-4e06-95c7-4d7dbcfd7d77",
   "metadata": {},
   "source": [
    "Question2 : What is a p-value, and how is it used in hypothesis testing? What does it mean if the p-value is very small (e.g., 0.01)?"
   ]
  },
  {
   "cell_type": "markdown",
   "id": "8c41ff4f-f6e9-441c-90c7-39215ed547ef",
   "metadata": {},
   "source": [
    "**The p-value, or probability value, is a number between 0 and 1 that represents the probability of obtaining a test statistic as extreme or more extreme than the one observed, assuming the null hypothesis is true.** \n",
    "\n",
    "**How it's used in hypothesis testing:**\n",
    "\n",
    "1. **Null Hypothesis:** This is the default assumption, often a statement of \"no effect\" or \"no difference.\"\n",
    "2. **Alternative Hypothesis:** This is the claim we want to test, often the opposite of the null hypothesis.\n",
    "3. **Test Statistic:** A numerical value calculated from the sample data.\n",
    "4. **P-value Calculation:** Using the test statistic and the distribution of the test statistic under the null hypothesis, we calculate the p-value.\n",
    "5. **Decision Making:**\n",
    "   - If the p-value is less than a predetermined significance level (often 0.05), we reject the null hypothesis in favor of the alternative hypothesis. This means the observed result is statistically significant.\n",
    "   - If the p-value is greater than the significance level, we fail to reject the null hypothesis. This means we don't have enough evidence to conclude that the alternative hypothesis is true.\n",
    "\n",
    "**What a small p-value means:**\n",
    "\n",
    "A very small p-value, like 0.01, indicates that the observed data is highly unlikely to have occurred by chance if the null hypothesis were true. In other words, it provides strong evidence against the null hypothesis. This suggests that the alternative hypothesis is more likely to be true.\n",
    "\n",
    "**It's important to note that a small p-value doesn't necessarily mean the effect size is large or practically significant.** It simply means that the observed effect is unlikely to be due to random chance.\n"
   ]
  },
  {
   "cell_type": "markdown",
   "id": "8f5ef80f-77ce-41e3-9c5c-8c1dad78b62a",
   "metadata": {},
   "source": [
    "Question3: Compare and contrast the binomial and Bernoulli distributions. "
   ]
  },
  {
   "cell_type": "markdown",
   "id": "37863d6a-c1fa-4796-9d48-0336bea29148",
   "metadata": {},
   "source": [
    "**Bernoulli Distribution vs. Binomial Distribution**\r\n",
    "\r\n",
    "Both the Bernoulli and Binomial distributions are fundamental in probability theory and statistics, but they have distinct characteristics.\r\n",
    "\r\n",
    "**Bernoulli Distribution**\r\n",
    "\r\n",
    "* **Single Trial:** A Bernoulli trial is a random experiment with only two possible outcomes: success or failure. \r\n",
    "* **Two Outcomes:** The outcome can be represented by a binary variable, typically 1 for success and 0 for failure.\r\n",
    "* **Probability Parameter:** The distribution is characterized by a single parameter, p, which represents the probability of success.\r\n",
    "* **Example:** Flipping a coin once.\r\n",
    "\r\n",
    "**Binomial Distribution**\r\n",
    "\r\n",
    "* **Multiple Trials:** A binomial experiment consists of a fixed number, n, of independent Bernoulli trials.\r\n",
    "* **Two Outcomes:** Each trial has two possible outcomes: success or failure.\r\n",
    "* **Probability Parameter:** The probability of success, p, remains constant for each trial.\r\n",
    "* **Random Variable:** The random variable, X, represents the number of successes in n trials.\r\n",
    "* **Example:** Flipping a coin 10 times and counting the number of heads.\r\n",
    "\r\n",
    "**Key Differences**\r\n",
    "\r\n",
    "| Feature | Bernoulli Distribution | Binomial Distribution |\r\n",
    "|---|---|---|\r\n",
    "| Number of Trials | 1 | n (fixed) |\r\n",
    "| Random Variable | 0 or 1 | Number of successes (0, 1, 2, ..., n) |\r\n",
    "| Probability Mass Function (PMF) | P(X=x) = p^x * (1-p)^(1-x) | P(X=x) = C(n, x) * p^x * (1-p)^(n-x) |\r\n",
    "\r\n",
    "**Relationship**\r\n",
    "\r\n",
    "A Binomial distribution can be seen as the sum of n independent Bernoulli trials. In essence, it's a generalization of the Bernoulli distribution to multiple trials.\r\n",
    "\r\n",
    "**In summary:**\r\n",
    "* A Bernoulli trial is a single event with two outcomes.\r\n",
    "* A Binomial experiment is a series of Bernoulli trials.\r\n",
    "* The Binomial distribution models the number of successes in a fixed number of Bernoulli trials.\r\n"
   ]
  },
  {
   "cell_type": "markdown",
   "id": "593c56c9-087b-4aff-9204-f2eb173a5599",
   "metadata": {},
   "source": [
    "Question 4: Under what conditions is the binomial distribution used, and how does it relate to the Bernoulli \n",
    "distribution?"
   ]
  },
  {
   "cell_type": "markdown",
   "id": "4817f3c5-26ae-49ec-9c48-bd66ed68deee",
   "metadata": {},
   "source": [
    "**Conditions for Binomial Distribution**\r\n",
    "\r\n",
    "The binomial distribution is used to model the number of successes in a fixed number of independent trials, where each trial has only two possible outcomes: success or failure. For a situation to follow a binomial distribution, the following conditions must be met:\r\n",
    "\r\n",
    "1. **Fixed Number of Trials (n):** The experiment consists of a fixed number of trials.\r\n",
    "2. **Independent Trials:** The outcome of one trial does not affect the outcome of any other trial.\r\n",
    "3. **Two Possible Outcomes:** Each trial results in one of two outcomes: success or failure.\r\n",
    "4. **Constant Probability of Success (p):** The probability of success, p, remains constant for each trial.\r\n",
    "\r\n",
    "**Relationship to Bernoulli Distribution**\r\n",
    "\r\n",
    "The Bernoulli distribution is the simplest case of the binomial distribution, where n = 1. In other words, a Bernoulli trial is a single binomial trial. \r\n",
    "\r\n",
    "A binomial experiment can be thought of as a series of Bernoulli trials. The binomial distribution calculates the probability of getting a specific number of successes in this series of trials. \r\n",
    "\r\n",
    "**To summarize:**\r\n",
    "* **Bernoulli Distribution:** Models a single trial with two outcomes.\r\n",
    "* **Binomial Distribution:** Models multiple independent trials with two outcomes, where the probability of success remains constant for each trial.\r\n",
    "\r\n",
    "**Example:**\r\n",
    "* **Bernoulli:** Flipping a coin once.\r\n",
    "* **Binomial:** Flipping a coin 10 times and counting the number of heads.\r\n"
   ]
  },
  {
   "cell_type": "markdown",
   "id": "5cb3790a-4b35-4c36-88bd-91f0c07fdec3",
   "metadata": {},
   "source": [
    "Question5: What are the key properties of the Poisson distribution, and when is it appropriate to use this \n",
    "distribution?"
   ]
  },
  {
   "cell_type": "markdown",
   "id": "e941a59b-c320-46b9-a253-87026e6d8b96",
   "metadata": {},
   "source": [
    "**Key Properties of the Poisson Distribution:**\n",
    "\n",
    "1. **Discrete Probability Distribution:** It deals with discrete events, such as the number of occurrences of an event in a fixed interval of time or space.\n",
    "2. **Rare Events:** It's suitable for modeling rare events that occur randomly and independently.\n",
    "3. **Mean and Variance Equality:** The mean and variance of a Poisson distribution are equal to a parameter λ (lambda), which represents the average rate of occurrence of the event.\n",
    "4. **Independence:** The occurrence of one event does not affect the probability of another event occurring.\n",
    "\n",
    "**When to Use Poisson Distribution:**\n",
    "\n",
    "The Poisson distribution is appropriate for modeling various real-world phenomena where events occur randomly and independently over a fixed interval, such as:\n",
    "\n",
    "* **Number of calls received by a call center in an hour.**\n",
    "* **Number of accidents at a specific intersection in a year.**\n",
    "* **Number of customers arriving at a store in a given time period.**\n",
    "* **Number of radioactive decays in a given time interval.**\n",
    "* **Number of typos in a book.**\n",
    "\n",
    "**Key Condition:**\n",
    "* The average rate of occurrence (λ) should be constant over the interval.\n",
    "\n",
    "**Note:** As the mean (λ) of a Poisson distribution increases, it approaches a normal distribution. This property is often used to approximate Poisson probabilities for large values of λ. \n"
   ]
  },
  {
   "cell_type": "markdown",
   "id": "ee9f71af-eb1e-4930-be19-32bd06db138a",
   "metadata": {},
   "source": [
    "Question6: Define the terms \"probability distribution\" and \"probability density function\" (PDF). How does a \n",
    "PDF differ from a probability mass function (PMF)?"
   ]
  },
  {
   "cell_type": "markdown",
   "id": "d1e89c69-9c1c-41dd-b2d5-7aee400edb10",
   "metadata": {},
   "source": [
    "## Probability Distribution, Probability Density Function (PDF), and Probability Mass Function (PMF)\r\n",
    "\r\n",
    "### Probability Distribution\r\n",
    "A **probability distribution** is a mathematical function that describes the likelihood of occurrence of different possible outcomes of a random experiment. It provides a complete description of a random variable. \r\n",
    "\r\n",
    "### Probability Density Function (PDF)\r\n",
    "A **probability density function (PDF)** is used to describe the probability distribution of a continuous random variable. It's a function that, when integrated over a specific range of values, gives the probability that the random variable will fall within that range. \r\n",
    "\r\n",
    "**Key points about PDFs:**\r\n",
    "\r\n",
    "* The total area under the curve of a PDF is equal to 1.\r\n",
    "* The probability of a specific value for a continuous random variable is 0.\r\n",
    "* We calculate probabilities for ranges of values, not specific points.\r\n",
    "\r\n",
    "**Example:** The normal distribution is a common example of a continuous probability distribution. Its PDF is a bell-shaped curve.\r\n",
    "\r\n",
    "### Probability Mass Function (PMF)\r\n",
    "A **probability mass function (PMF)** is used to describe the probability distribution of a discrete random variable. It assigns a probability to each possible value of the random variable.\r\n",
    "\r\n",
    "**Key points about PMFs:**\r\n",
    "\r\n",
    "* The sum of all probabilities in a PMF is equal to 1.\r\n",
    "* The probability of a specific value for a discrete random variable is non-zero.\r\n",
    "\r\n",
    "**Example:** The binomial distribution is a discrete probability distribution. Its PMF gives the probability of getting a specific number of successes in a fixed number of trials.\r\n",
    "\r\n",
    "**Key Difference:**\r\n",
    "The primary difference between a PDF and a PMF lies in the type of random variable they describe. PDFs are used for continuous random variables, while PMFs are used for discrete random variables. \r\n",
    "\r\n",
    "In essence, a PDF describes the probability density at a particular point, while a PMF directly assigns probabilities to specific values.\r\n"
   ]
  },
  {
   "cell_type": "markdown",
   "id": "b3e6e445-4999-4ae6-8e72-4e4eb561a6c3",
   "metadata": {},
   "source": [
    "Question7: Explain the Central Limit Theorem (CLT) with example."
   ]
  },
  {
   "cell_type": "markdown",
   "id": "09c0394d-6f02-4f26-8c04-822589cf5e8a",
   "metadata": {},
   "source": [
    "**Central Limit Theorem (CLT)**\r\n",
    "\r\n",
    "The Central Limit Theorem (CLT) is a fundamental concept in statistics. It states that the distribution of sample means approaches a normal distribution as the sample size increases, regardless of the underlying population distribution. \r\n",
    "\r\n",
    "**In simpler terms:**\r\n",
    "\r\n",
    "* **No matter what the shape of the population distribution is (normal, skewed, etc.), the distribution of sample means will tend to be normal.**\r\n",
    "* **This is especially true for larger sample sizes.**\r\n",
    "\r\n",
    "**Why is this important?**\r\n",
    "This theorem allows us to make inferences about a population based on sample data. It's the foundation for many statistical tests and confidence ine size increases]\r\n",
    "\r\n",
    "**Key Points:**\r\n",
    "\r\n",
    "* **Sample Size Matters:** The larger the sample size, the closer the distribution of sample means will be to a normal distribution.\r\n",
    "* **Population Distribution:** The CLT doesn't require the population to be normally distributed.\r\n",
    "* **Practical Applications:** The CLT is used extensively in hypothesis testing, confidence interval estimation, and other statistical analyses.\r\n",
    "\r\n",
    "By understanding the CLT, we can make reliable inferences about populations, even when we have limited information about them. \r\n"
   ]
  },
  {
   "cell_type": "code",
   "execution_count": 18,
   "id": "6d359378-1af1-4eba-89cd-48c5018f61a3",
   "metadata": {},
   "outputs": [
    {
     "data": {
      "image/png": "[encoded data removed]",
      "text/plain": [
       "<Figure size 640x480 with 1 Axes>"
      ]
     },
     "metadata": {},
     "output_type": "display_data"
    }
   ],
   "source": [
    "import numpy as np\n",
    "import matplotlib.pyplot as plt\n",
    "\n",
    "# Parameters\n",
    "population_size = 10000\n",
    "sample_size = 50\n",
    "num_samples = 1000\n",
    "\n",
    "# Generate a non-normal population (exponential distribution)\n",
    "population = np.random.exponential(scale=1, size=population_size)\n",
    "\n",
    "# Sample means\n",
    "sample_means = []\n",
    "for _ in range(num_samples):\n",
    "    sample = np.random.choice(population, size=sample_size, replace=False)\n",
    "    sample_mean = np.mean(sample)\n",
    "    sample_means.append(sample_mean)\n",
    "\n",
    "# Plot the histogram of sample means\n",
    "plt.hist(sample_means, bins=30, density=True, alpha=0.6, color='g', edgecolor='black')\n",
    "plt.title('Distribution of Sample Means')\n",
    "plt.xlabel('Sample Mean')\n",
    "plt.ylabel('Density')\n",
    "plt.show()"
   ]
  },
  {
   "cell_type": "markdown",
   "id": "c12e5583-14f5-4b2f-ae85-10be903ca971",
   "metadata": {},
   "source": [
    "Question8: Compare z-scores and t-scores. When should you use a z-score, and when should a t-score be a\r\n",
    "pplied instead?"
   ]
  },
  {
   "cell_type": "markdown",
   "id": "68e4671a-772d-46a6-a83d-cdd9a8fa93f4",
   "metadata": {},
   "source": [
    "## Z-Scores vs. T-Scores: A Comparison\r\n",
    "\r\n",
    "Both z-scores and t-scores are statistical measures used to standardize data and make comparisons. They tell us how many standard deviations a data point is from the mean. However, they are used in different scenarios based on the information available.\r\n",
    "\r\n",
    "### Z-Scores\r\n",
    "* **Used when:** The population standard deviation (σ) is known.\r\n",
    "* **Formula:** z = (x - μ) / σ\r\n",
    "* **Distribution:** Standard normal distribution (mean = 0, standard deviation = 1)\r\n",
    "\r\n",
    "### T-Scores\r\n",
    "* **Used when:** The population standard deviation is unknown and estimated by the sample standard deviation (s).\r\n",
    "* **Formula:** t = (x̄ - μ) / (s / √n)\r\n",
    "* **Distribution:** t-distribution, which varies based on the degrees of freedom (df = n-1)\r\n",
    "\r\n",
    "**When to Use Which?**\r\n",
    "\r\n",
    "* **Z-Score:**\r\n",
    "  - When dealing with large sample sizes (typically n ≥ 30).\r\n",
    "  - When the population standard deviation is known or can be reliably estimated.\r\n",
    "  - In situations where the population is normally distributed.\r\n",
    "\r\n",
    "* **T-Score:**\r\n",
    "  - When the population standard deviation is unknown and must be estimated from the sample.\r\n",
    "  - When dealing with small sample sizes (typically n < 30).\r\n",
    "  - In situations where the population distribution is unknown or not normally distributed, but the sample size is large enough for the Central Limit Theorem to apply.\r\n",
    "\r\n",
    "**In essence:**\r\n",
    "\r\n",
    "* **Z-scores** are used when we have a good estimate of the population standard deviation.\r\n",
    "* **T-scores** are used when we have to rely on the sample standard deviation to estimate the population standard deviation.\r\n",
    "\r\n",
    "By understanding the differences between z-scores and t-scores, you can choose the appropriate statistical test for your specific research question.\r\n"
   ]
  },
  {
   "cell_type": "markdown",
   "id": "0ac39c90-9769-435b-9188-f9f2e785c6f2",
   "metadata": {},
   "source": [
    "Question9: Given a sample mean of 105, a population mean of 100, a standard deviation of 15, and a sample \n",
    "size of 25, calculate the z-score and p-value. Based on a significance level of 0.05, do you reject or fail t \r\n",
    "reject the null hypothesis?\r\n",
    "\r\n",
    " Task: Write Python code to calculate the z-score and p-value for the given data.\r\n",
    "\r\n",
    "Objective: Apply the formula for the z-score and interpret the p-value for hypothesis testing."
   ]
  },
  {
   "cell_type": "code",
   "execution_count": 25,
   "id": "9a388e18-3547-47d1-a1bf-0df9021f5d6e",
   "metadata": {},
   "outputs": [
    {
     "name": "stdout",
     "output_type": "stream",
     "text": [
      "Z-score: 1.6666666666666667\n",
      "P-value: 0.0955807045456294\n",
      "Fail to reject the null hypothesis\n"
     ]
    }
   ],
   "source": [
    "import scipy.stats as stats\r\n",
    "\r\n",
    "# Given data\r\n",
    "sample_mean = 105\r\n",
    "population_mean = 100\r\n",
    "standard_deviation = 15\r\n",
    "sample_size = 25\r\n",
    "\r\n",
    "# Calculate the z-score\r\n",
    "z_score = (sample_mean - population_mean) / (standard_deviation / (sample_size**0.5))\r\n",
    "\r\n",
    "# Calculate the p-value\r\n",
    "p_value = stats.norm.sf(abs(z_score)) * 2  # Two-tailed test\r\n",
    "\r\n",
    "print(\"Z-score:\", z_score)\r\n",
    "print(\"P-value:\", p_value)\r\n",
    "\r\n",
    "# Significance level\r\n",
    "alpha = 0.05\r\n",
    "\r\n",
    "if p_value < alpha:\r\n",
    "    print(\"Reject the null hypothesis\")\r\n",
    "else:\r\n",
    "    print(\"Fail to reject the null hypothesis\")"
   ]
  },
  {
   "cell_type": "markdown",
   "id": "386eaf93-3b4a-49e8-82b7-143521bfba6b",
   "metadata": {},
   "source": [
    "Question10: Simulate a binomial distribution with 10 trials and a probability of success of 0.6 using Python.\r\n",
    "Generate 1,000 samples and plot the distribution. What is the expected mean and variance?\r\n",
    "\r\n",
    "Task: Use Python to generate the data, plot the distribution, and calculate the mean and variance.\r\n",
    "\r\n",
    "Objective: Understand the properties of a binomial distribution and verify them through simulation."
   ]
  }
 ],
 "metadata": {
  "kernelspec": {
   "display_name": "Python 3 (ipykernel)",
   "language": "python",
   "name": "python3"
  },
  "language_info": {
   "codemirror_mode": {
    "name": "ipython",
    "version": 3
   },
   "file_extension": ".py",
   "mimetype": "text/x-python",
   "name": "python",
   "nbconvert_exporter": "python",
   "pygments_lexer": "ipython3",
   "version": "3.12.4"
  }
 },
 "nbformat": 4,
 "nbformat_minor": 5
}
